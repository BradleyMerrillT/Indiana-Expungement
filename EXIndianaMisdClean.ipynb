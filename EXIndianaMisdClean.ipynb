{
  "nbformat": 4,
  "nbformat_minor": 0,
  "metadata": {
    "colab": {
      "provenance": [],
      "mount_file_id": "1NjRnWtrRGoFoK81s-0k0a9b-hkv5wYUX",
      "authorship_tag": "ABX9TyOz3T+6suoPOXkGp9KPuU4+",
      "include_colab_link": true
    },
    "kernelspec": {
      "name": "python3",
      "display_name": "Python 3"
    },
    "language_info": {
      "name": "python"
    }
  },
  "cells": [
    {
      "cell_type": "markdown",
      "metadata": {
        "id": "view-in-github",
        "colab_type": "text"
      },
      "source": [
        "<a href=\"https://colab.research.google.com/github/BradleyMerrillT/Indiana-Expungement/blob/main/EXIndianaMisdClean.ipynb\" target=\"_parent\"><img src=\"https://colab.research.google.com/assets/colab-badge.svg\" alt=\"Open In Colab\"/></a>"
      ]
    },
    {
      "cell_type": "markdown",
      "source": [
        "EX, the expungement app for Indiana ex-offenders"
      ],
      "metadata": {
        "id": "aoX6b6wcP9kG"
      }
    },
    {
      "cell_type": "code",
      "source": [
        "from google.colab import drive\n",
        "drive.mount('/content/drive')"
      ],
      "metadata": {
        "id": "VnxKjqlSTv1u",
        "colab": {
          "base_uri": "https://localhost:8080/"
        },
        "outputId": "4d5e3f85-e919-4e5a-c7e3-097dd95392ae"
      },
      "execution_count": 1,
      "outputs": [
        {
          "output_type": "stream",
          "name": "stdout",
          "text": [
            "Mounted at /content/drive\n"
          ]
        }
      ]
    },
    {
      "cell_type": "code",
      "metadata": {
        "id": "PlcI-t1canRC"
      },
      "source": [
        "#imports\n",
        "import pandas as pd\n",
        "import re\n",
        "import numpy as np\n",
        "import math\n",
        "import zipfile\n",
        "import os\n",
        "import pickle"
      ],
      "execution_count": 2,
      "outputs": []
    },
    {
      "cell_type": "code",
      "source": [
        "df = pd.read_pickle(\"/content/drive/MyDrive/Expungement/dataframe.pkl\")"
      ],
      "metadata": {
        "id": "b4pCzCt7TMYL"
      },
      "execution_count": 3,
      "outputs": []
    },
    {
      "cell_type": "markdown",
      "source": [
        "#Ind. Code 35-38-9-2 (Misdemeanors)"
      ],
      "metadata": {
        "id": "fPqUWzaV7Ofu"
      }
    },
    {
      "cell_type": "markdown",
      "source": [
        "Current as of January 02, 2024 | Updated by FindLaw Staff\n",
        "\n",
        "Sec. 2. (a) Except as provided in subsection (b) and section 8.5 of this chapter, this section applies only to a person convicted of a misdemeanor, including a Class D felony (for a crime committed before July 1, 2014) or a Level 6 felony (for a crime committed after June 30, 2014) reduced to a misdemeanor.\n",
        "\n",
        "(b) This section does not apply to the following:\n",
        "\n",
        "(1) A person convicted of two (2) or more felony offenses that:\n",
        "\n",
        "(A) involved the unlawful use of a deadly weapon; and\n",
        "\n",
        "(B) were not committed as part of the same episode of criminal conduct.\n",
        "\n",
        "(2) A sex or violent offender (as defined in IC 11-8-8-5).\n",
        "\n",
        "(c) Not earlier than five (5) years after the date of conviction (unless the prosecuting attorney consents in writing to an earlier period) for the misdemeanor or the felony reduced to a misdemeanor pursuant to IC 35-38-1-1.5 or IC 35-50-2-7, the person convicted of the misdemeanor or the felony reduced to a misdemeanor may petition a court to expunge all conviction records, including records contained in:\n",
        "\n",
        "(1) a court's files;\n",
        "\n",
        "(2) the files of the department of correction;\n",
        "\n",
        "(3) the files of the bureau of motor vehicles; and\n",
        "\n",
        "(4) the files of any other person who provided treatment or services to the petitioning person under a court order;\n",
        "\n",
        "that relate to the person's misdemeanor conviction, including records of a collateral action.\n",
        "\n",
        "(d) A person who files a petition to expunge conviction records, including any records relating to the conviction and any records concerning a collateral action, shall file the petition in a circuit or superior court in the county of conviction.\n",
        "\n",
        "(e) If the court finds by a preponderance of the evidence that:\n",
        "\n",
        "(1) the period required by this section has elapsed;\n",
        "\n",
        "(2) no charges are pending against the person;\n",
        "\n",
        "(3) the person has paid all fines, fees, and court costs, and satisfied any restitution obligation placed on the person as part of the sentence; and\n",
        "\n",
        "(4) the person has not been convicted of a crime within the previous five (5) years (or within a shorter period agreed to by the prosecuting attorney if the prosecuting attorney has consented to a shorter period under subsection (c));\n",
        "\n",
        "the court shall order the conviction records described in subsection (c), including any records relating to the conviction and any records concerning a collateral action, expunged in accordance with section 6 of this chapter."
      ],
      "metadata": {
        "id": "PXQOg6sX75FC"
      }
    },
    {
      "cell_type": "markdown",
      "source": [
        "###Now Section by section"
      ],
      "metadata": {
        "id": "YgZ2fuzY9WQl"
      }
    },
    {
      "cell_type": "markdown",
      "source": [
        "#Subsection (a)"
      ],
      "metadata": {
        "id": "qcy0QsfUKyLo"
      }
    },
    {
      "cell_type": "markdown",
      "source": [
        "(a) Except as provided in subsection (b) and section 8.5 of this chapter, this section applies only to a person convicted of a misdemeanor, including a Class D felony (for a crime committed before July 1, 2014) or a Level 6 felony (for a crime committed after June 30, 2014) reduced to a misdemeanor."
      ],
      "metadata": {
        "id": "bO02lgAd8yud"
      }
    },
    {
      "cell_type": "markdown",
      "source": [
        "For felony reduce rules, see IN Code § 35-50-2-7 (2024)"
      ],
      "metadata": {
        "id": "swTHJS5kC8Dy"
      }
    },
    {
      "cell_type": "markdown",
      "source": [
        "Infractions are covered in IC 34-28-5-15"
      ],
      "metadata": {
        "id": "z7FbeOERGlyC"
      }
    },
    {
      "cell_type": "markdown",
      "source": [
        "For reference,\n",
        "IN Code § 35-38-9-8.5 (2024)\n",
        "\n",
        "Sec. 8.5. (a) This section applies only to a person seeking to expunge an Indiana offense punishable by an indeterminate sentence under a law other than IC 35-50.\n",
        "\n",
        "(b) If the offense for which the person was convicted is a misdemeanor at the time the person files the petition for expungement, the person may file the petition for expungement under section 2 of this chapter.\n",
        "\n",
        "(c) If the offense for which the person was convicted:\n",
        "\n",
        "(1) is a Level 6 felony at the time the person files the petition for expungement; and\n",
        "\n",
        "(2) is not substantially similar to an offense described in section 3(b) of this chapter;\n",
        "\n",
        "the person may file the petition under section 3 of this chapter.\n",
        "\n",
        "(d) If:\n",
        "\n",
        "(1) the person to whom this chapter applies may not seek expungement under section 3 of this chapter; and\n",
        "\n",
        "(2) the offense the person seeks to expunge is not substantially similar to an offense described in section 4(b) of this chapter;\n",
        "\n",
        "the person may file the petition under section 4 of this chapter.\n",
        "\n",
        "(e) If the offense for which the person was convicted:\n",
        "\n",
        "(1) is a felony at the time of filing the petition, including a felony described in section 5(a) of this chapter; and\n",
        "\n",
        "(2) is not substantially similar to an offense described in section 5(b) of this chapter;\n",
        "\n",
        "the person may file the petition under section 5 of this chapter.\n",
        "\n",
        "As added by P.L.142-2015, SEC.9."
      ],
      "metadata": {
        "id": "xtaeTdvQNtjX"
      }
    },
    {
      "cell_type": "code",
      "source": [
        "df['DisposedDegree'] = df['DisposedDegree'].fillna(False)"
      ],
      "metadata": {
        "id": "SWU8V_DHEvRZ"
      },
      "execution_count": 4,
      "outputs": []
    },
    {
      "cell_type": "code",
      "source": [
        "df['DisposedDegree'].unique()"
      ],
      "metadata": {
        "colab": {
          "base_uri": "https://localhost:8080/"
        },
        "id": "uO0eYEyQE7Zf",
        "outputId": "b73a1ffe-2b6c-42cf-a960-fd6d3a076f8a"
      },
      "execution_count": 5,
      "outputs": [
        {
          "output_type": "execute_result",
          "data": {
            "text/plain": [
              "array([False, 'Misdemeanor Class B', 'Misdemeanor Class C',\n",
              "       'Misdemeanor Class A', 'Degree Code', 'Infraction Class C',\n",
              "       'Felony B', 'Felony A', 'Felony D', 'Felony C', 'No State Code',\n",
              "       'Murder', 'Infraction Class A', 'Infraction Class D',\n",
              "       'Infraction Class B', 'Misdemeanor Class D', 'Felony 6',\n",
              "       'Felony 5', 'Felony 2', 'Felony 4', 'Felony 3', 'Felony 1',\n",
              "       'Misdemeanor'], dtype=object)"
            ]
          },
          "metadata": {},
          "execution_count": 5
        }
      ]
    },
    {
      "cell_type": "code",
      "source": [
        "#Filter for misdemeanor convictions\n",
        "df_misd = df[df['DisposedDegree'].str.contains(\"Misdemeanor\", na=False)]"
      ],
      "metadata": {
        "id": "nWhTzPG5DHOi"
      },
      "execution_count": 6,
      "outputs": []
    },
    {
      "cell_type": "code",
      "source": [
        "len(df_misd)"
      ],
      "metadata": {
        "colab": {
          "base_uri": "https://localhost:8080/"
        },
        "id": "i-61XxvnLXuO",
        "outputId": "7b5520c0-0841-4dcf-a04a-6740d5beca05"
      },
      "execution_count": 7,
      "outputs": [
        {
          "output_type": "execute_result",
          "data": {
            "text/plain": [
              "3421079"
            ]
          },
          "metadata": {},
          "execution_count": 7
        }
      ]
    },
    {
      "cell_type": "markdown",
      "source": [
        "#Subsection (b)"
      ],
      "metadata": {
        "id": "FkcYvpEX9CnS"
      }
    },
    {
      "cell_type": "markdown",
      "source": [
        "(b) This section does not apply to the following:\n",
        "\n",
        "(1) A person convicted of two (2) or more felony offenses that:\n",
        "\n",
        "(A) involved the unlawful use of a deadly weapon; and\n",
        "\n",
        "(B) were not committed as part of the same episode of criminal conduct.\n",
        "\n",
        "(2) A sex or violent offender (as defined in IC 11-8-8-5)."
      ],
      "metadata": {
        "id": "lUHvfjjVMjuT"
      }
    },
    {
      "cell_type": "markdown",
      "source": [
        "Going forward, can we ask courts to check a box on conviction regarding whether an offense meets these criteria or not?"
      ],
      "metadata": {
        "id": "aL2aUY9RV6ri"
      }
    },
    {
      "cell_type": "markdown",
      "source": [
        "##Subsection (b)(1)"
      ],
      "metadata": {
        "id": "ePiuxdyqxW4m"
      }
    },
    {
      "cell_type": "code",
      "source": [
        "#Filter for Felonies\n",
        "df_fel = df[df['DisposedDegree'].str.contains(\"Felony\", na=False)]"
      ],
      "metadata": {
        "id": "T6nDh-LDMoX4"
      },
      "execution_count": 8,
      "outputs": []
    },
    {
      "cell_type": "code",
      "source": [
        "len(df_fel)"
      ],
      "metadata": {
        "colab": {
          "base_uri": "https://localhost:8080/"
        },
        "id": "QxwtmLVANoaM",
        "outputId": "b01d473e-b701-4180-aa49-877b8b9f057f"
      },
      "execution_count": 9,
      "outputs": [
        {
          "output_type": "execute_result",
          "data": {
            "text/plain": [
              "1551202"
            ]
          },
          "metadata": {},
          "execution_count": 9
        }
      ]
    },
    {
      "cell_type": "markdown",
      "source": [
        "Filter for felonies by a partial list of those statutory categories of felonies that don't involve weapons"
      ],
      "metadata": {
        "id": "w-coFzk_x4MW"
      }
    },
    {
      "cell_type": "code",
      "source": [
        "#filter out offenses that clearly do not meet the exclusion standard\n",
        "Ok_offenses = ['35-43-4', '35-48-4', '35-45-1',  '9-30-5', '16-42-19', '35-43-2-1.5', '35-43-5']\n",
        "df_not_ok = df_fel[~df_fel['DisposedStatute'].str.contains('|'.join(Ok_offenses), na=False) & (df['DisposedStatute'].str.len() > 14)]"
      ],
      "metadata": {
        "colab": {
          "base_uri": "https://localhost:8080/"
        },
        "id": "9g3TUfRoBZRR",
        "outputId": "4a623ec5-6325-4672-da36-1dfe05ad5203"
      },
      "execution_count": 10,
      "outputs": [
        {
          "output_type": "stream",
          "name": "stderr",
          "text": [
            "<ipython-input-10-e5783a55b727>:3: UserWarning: Boolean Series key will be reindexed to match DataFrame index.\n",
            "  df_not_ok = df_fel[~df_fel['DisposedStatute'].str.contains('|'.join(Ok_offenses), na=False) & (df['DisposedStatute'].str.len() > 14)]\n"
          ]
        }
      ]
    },
    {
      "cell_type": "code",
      "source": [
        "len(df_not_ok)"
      ],
      "metadata": {
        "colab": {
          "base_uri": "https://localhost:8080/"
        },
        "id": "1uEQo2LIvw6Y",
        "outputId": "f683769a-51c1-4f50-e77c-d78c6d78a0d1"
      },
      "execution_count": 11,
      "outputs": [
        {
          "output_type": "execute_result",
          "data": {
            "text/plain": [
              "342803"
            ]
          },
          "metadata": {},
          "execution_count": 11
        }
      ]
    },
    {
      "cell_type": "markdown",
      "source": [
        "With the felony list slimmed down, who are the repeat offenders"
      ],
      "metadata": {
        "id": "lgoS8LFpLh2R"
      }
    },
    {
      "cell_type": "code",
      "source": [
        "#Who has 2 or more felonies?--need to add except on same date\n",
        "df_repeat = df_not_ok.groupby('PartyID').filter(lambda x: len(x) >= 2)"
      ],
      "metadata": {
        "id": "_f8S8_qJR1Ei"
      },
      "execution_count": 12,
      "outputs": []
    },
    {
      "cell_type": "code",
      "source": [
        "len(df_repeat)"
      ],
      "metadata": {
        "colab": {
          "base_uri": "https://localhost:8080/"
        },
        "id": "uGRcBg1HTo9J",
        "outputId": "4f98cd5a-cdc4-4710-b04e-a4764e950e3c"
      },
      "execution_count": 13,
      "outputs": [
        {
          "output_type": "execute_result",
          "data": {
            "text/plain": [
              "222591"
            ]
          },
          "metadata": {},
          "execution_count": 13
        }
      ]
    },
    {
      "cell_type": "code",
      "source": [
        "repeat = df_repeat['PartyID'].unique()"
      ],
      "metadata": {
        "id": "NdY6p_z7UJXk"
      },
      "execution_count": 14,
      "outputs": []
    },
    {
      "cell_type": "code",
      "source": [
        "len(repeat)"
      ],
      "metadata": {
        "colab": {
          "base_uri": "https://localhost:8080/"
        },
        "id": "mY09wdPwUYzN",
        "outputId": "6807d821-0baa-4728-8e19-30569760cf41"
      },
      "execution_count": 15,
      "outputs": [
        {
          "output_type": "execute_result",
          "data": {
            "text/plain": [
              "72587"
            ]
          },
          "metadata": {},
          "execution_count": 15
        }
      ]
    },
    {
      "cell_type": "markdown",
      "source": [
        "##Subsection (b)(2)"
      ],
      "metadata": {
        "id": "Bi7VckT_xhMt"
      }
    },
    {
      "cell_type": "markdown",
      "source": [
        "Indiana Code Title 11. Corrections § 11-8-8-5\n",
        "Current as of January 02, 2024\n",
        "\n",
        "Sec. 5. (a) Except as provided in section 22 of this chapter, as used in this chapter, “sex or violent offender” means a person convicted of any of the following offenses:\n",
        "\n",
        "(1) Rape (IC 35-42-4-1).\n",
        "\n",
        "(2) Criminal deviate conduct (IC 35-42-4-2) (before its repeal).\n",
        "\n",
        "(3) Child molesting (IC 35-42-4-3).\n",
        "\n",
        "(4) Child exploitation (IC 35-42-4-4(b) or IC 35-42-4-4(c)).\n",
        "\n",
        "(5) Vicarious sexual gratification (including performing sexual conduct in the presence of a minor) (IC 35-42-4-5).\n",
        "\n",
        "(6) Child solicitation (IC 35-42-4-6).\n",
        "\n",
        "(7) Child seduction (IC 35-42-4-7).\n",
        "\n",
        "(8) Sexual misconduct with a minor (IC 35-42-4-9) as a Class A, Class B, or Class C felony (for a crime committed before July 1, 2014) or a Level 1, Level 2, Level 4, or Level 5 felony (for a crime committed after June 30, 2014), unless:\n",
        "\n",
        "(A) the person is convicted of sexual misconduct with a minor as a Class C felony (for a crime committed before July 1, 2014) or a Level 5 felony (for a crime committed after June 30, 2014);\n",
        "\n",
        "(B) the person is not more than:\n",
        "\n",
        "(i) four (4) years older than the victim if the offense was committed after June 30, 2007; or\n",
        "\n",
        "(ii) five (5) years older than the victim if the offense was committed before July 1, 2007; and\n",
        "\n",
        "(C) the sentencing court finds that the person should not be required to register as a sex offender.\n",
        "\n",
        "(9) Incest (IC 35-46-1-3).\n",
        "\n",
        "(10) Sexual battery (IC 35-42-4-8).\n",
        "\n",
        "(11) Kidnapping (IC 35-42-3-2), if the victim is less than eighteen (18) years of age, and the person who kidnapped the victim is not the victim's parent or guardian.\n",
        "\n",
        "(12) Criminal confinement (IC 35-42-3-3), if the victim is less than eighteen (18) years of age, and the person who confined or removed the victim is not the victim's parent or guardian.\n",
        "\n",
        "(13) Possession of child pornography (IC 35-42-4-4(d) or IC 35-42-4-4(e)).\n",
        "\n",
        "(14) Promoting prostitution (IC 35-45-4-4) as a Class B felony (for a crime committed before July 1, 2014) or a Level 4 felony (for a crime committed after June 30, 2014).\n",
        "\n",
        "(15) Promotion of human sexual trafficking under IC 35-42-3.5-1.1.\n",
        "\n",
        "(16) Promotion of child sexual trafficking under IC 35-42-3.5-1.2(a).\n",
        "\n",
        "(17) Promotion of sexual trafficking of a younger child (IC 35-42-3.5-1.2(c)).\n",
        "\n",
        "(18) Child sexual trafficking (IC 35-42-3.5-1.3).\n",
        "\n",
        "(19) Human trafficking under IC 35-42-3.5-1.4 if the victim is less than eighteen (18) years of age.\n",
        "\n",
        "(20) Murder (IC 35-42-1-1).\n",
        "\n",
        "(21) Voluntary manslaughter (IC 35-42-1-3).\n",
        "\n",
        "(22) Sexual misconduct by a service provider with a detained or supervised child (IC 35-44.1-3-10(c)).\n",
        "\n",
        "(b) The term includes:\n",
        "\n",
        "(1) a person who is required to register as a sex or violent offender in any jurisdiction; and\n",
        "\n",
        "(2) a child who has committed a delinquent act, or a person prosecuted under IC 31-30-1-4(d) for an offense described in subsection (a) committed when the person was less than eighteen (18) years of age, but who was at least twenty-one (21) years of age when the charge was filed, and who:\n",
        "\n",
        "(A) is at least fourteen (14) years of age;\n",
        "\n",
        "(B) is on probation, is on parole, is discharged from a facility by the department of correction, is discharged from a secure private facility (as defined in IC 31-9-2-115), or is discharged from a juvenile detention facility as a result of an adjudication as a delinquent child for an act that would be an offense described in subsection (a) if committed by an adult; and\n",
        "\n",
        "(C) is found by a court by clear and convincing evidence to be likely to repeat an act that would be an offense described in subsection (a) if committed by an adult.\n",
        "\n",
        "(c) In making a determination under subsection (b)(2)(C), the court shall consider expert testimony concerning whether a child is likely to repeat an act that would be an offense described in subsection (a) if committed by an adult.\n",
        "\n",
        "(d) A person ordered to register under subsection (b)(2) may petition the court to reconsider the order at any time after completing court ordered sex offender treatment. The court shall consider expert testimony concerning whether a child or person is likely to repeat an offense described in subsection (a) or an act that would be an offense described in subsection (a) if committed by an adult."
      ],
      "metadata": {
        "id": "RRMUdvuyqQp3"
      }
    },
    {
      "cell_type": "code",
      "source": [
        "# here we want to filter the misdemenor list by the list of sex crimes to make sure none of the included misdemenor can be forbidden\n",
        "sex_offenses = ['35-42-4-1', '35-42-4-2', '35-42-4-3',  '35-42-4-4', '35-42-4-5', '35-42-4-6', '35-42-4-7', '35-42-4-9', '35-46-1-3', '35-42-4-8', '35-42-3-2', '35-42-3-3', '35-42-4-4', '35-45-4-4', '35-42-3.5-1.1', '35-42-3.5-1.2', '35-42-3.5-1.3', '35-42-3.5-1.4', '35-42-1-3', '35-44.1-3-10', '31-30-1-4']\n",
        "df_misd_no_sex = df_misd[~df_misd['DisposedStatute'].str.contains('|'.join(sex_offenses), na=False)]"
      ],
      "metadata": {
        "id": "XHWKBcA7Q_Lg"
      },
      "execution_count": 16,
      "outputs": []
    },
    {
      "cell_type": "code",
      "source": [
        "len(df_misd_no_sex)"
      ],
      "metadata": {
        "colab": {
          "base_uri": "https://localhost:8080/"
        },
        "id": "wc1QlsilSVoA",
        "outputId": "f1d458d3-79c0-4ca2-d391-450176142f33"
      },
      "execution_count": 17,
      "outputs": [
        {
          "output_type": "execute_result",
          "data": {
            "text/plain": [
              "3420179"
            ]
          },
          "metadata": {},
          "execution_count": 17
        }
      ]
    },
    {
      "cell_type": "code",
      "source": [
        "df_misd_sex = df_misd[df_misd['DisposedStatute'].str.contains('|'.join(sex_offenses), na=False)]"
      ],
      "metadata": {
        "id": "kXqiABN6ZkMW"
      },
      "execution_count": 18,
      "outputs": []
    },
    {
      "cell_type": "code",
      "source": [
        "len(df_misd_sex)"
      ],
      "metadata": {
        "colab": {
          "base_uri": "https://localhost:8080/"
        },
        "id": "DrlV4FNfa6DZ",
        "outputId": "4dd12b01-ade7-49d8-acfd-0464414ea58b"
      },
      "execution_count": 19,
      "outputs": [
        {
          "output_type": "execute_result",
          "data": {
            "text/plain": [
              "900"
            ]
          },
          "metadata": {},
          "execution_count": 19
        }
      ]
    },
    {
      "cell_type": "markdown",
      "source": [
        "We need to get access to more data to inplement \"a person who is required to register as a sex or violent offender in any jurisdiction\""
      ],
      "metadata": {
        "id": "mn80xrMqU7a_"
      }
    },
    {
      "cell_type": "markdown",
      "source": [
        "#Filter subsection (a) by (b)(1)"
      ],
      "metadata": {
        "id": "lmN-ALDlLKK_"
      }
    },
    {
      "cell_type": "code",
      "source": [
        "df_b = df_misd_no_sex[~df_misd_no_sex['PartyID'].isin(repeat)]"
      ],
      "metadata": {
        "id": "xlmX82BJLOt5"
      },
      "execution_count": 20,
      "outputs": []
    },
    {
      "cell_type": "code",
      "source": [
        "len(df_b)"
      ],
      "metadata": {
        "colab": {
          "base_uri": "https://localhost:8080/"
        },
        "id": "W4aR9YCfManV",
        "outputId": "e6828639-1006-4862-9d3b-50dfac8d72e1"
      },
      "execution_count": 21,
      "outputs": [
        {
          "output_type": "execute_result",
          "data": {
            "text/plain": [
              "3071712"
            ]
          },
          "metadata": {},
          "execution_count": 21
        }
      ]
    },
    {
      "cell_type": "markdown",
      "source": [
        "#Subsection (c)"
      ],
      "metadata": {
        "id": "JJKGUYjfNEds"
      }
    },
    {
      "cell_type": "markdown",
      "source": [
        "(c) Not earlier than five (5) years after the date of conviction (unless the prosecuting attorney consents in writing to an earlier period) for the misdemeanor or the felony reduced to a misdemeanor pursuant to IC 35-38-1-1.5 or IC 35-50-2-7, the person convicted of the misdemeanor or the felony reduced to a misdemeanor may petition a court to expunge all conviction records,"
      ],
      "metadata": {
        "id": "lQaT7YsmNIa_"
      }
    },
    {
      "cell_type": "code",
      "source": [
        "filter_date = '2021-12-01'\n",
        "df_c = df_b[df_b['DispositionDate'] < filter_date]"
      ],
      "metadata": {
        "id": "y2ceSCoENPSU"
      },
      "execution_count": 22,
      "outputs": []
    },
    {
      "cell_type": "code",
      "source": [
        "len(df_c)"
      ],
      "metadata": {
        "colab": {
          "base_uri": "https://localhost:8080/"
        },
        "id": "Rslz-qOiOYBf",
        "outputId": "6cd74e69-b301-4dc4-873f-fa63c0628a8f"
      },
      "execution_count": 23,
      "outputs": [
        {
          "output_type": "execute_result",
          "data": {
            "text/plain": [
              "2466485"
            ]
          },
          "metadata": {},
          "execution_count": 23
        }
      ]
    },
    {
      "cell_type": "markdown",
      "source": [
        "#Subsection (d) skip as there are no criteria there"
      ],
      "metadata": {
        "id": "VCELkcBoQHLD"
      }
    },
    {
      "cell_type": "markdown",
      "source": [
        "#Subsection (e)"
      ],
      "metadata": {
        "id": "l2Mg-UzFQOjC"
      }
    },
    {
      "cell_type": "markdown",
      "source": [
        "(e) If the court finds by a preponderance of the evidence that:\n",
        "\n",
        "(1) the period required by this section has elapsed;\n",
        "\n",
        "(2) no charges are pending against the person;\n",
        "\n",
        "(3) the person has paid all fines, fees, and court costs, and satisfied any restitution obligation placed on the person as part of the sentence; and\n",
        "\n",
        "(4) the person has not been convicted of a crime within the previous five (5) years (or within a shorter period agreed to by the prosecuting attorney if the prosecuting attorney has consented to a shorter period under subsection (c));"
      ],
      "metadata": {
        "id": "fPnmUSTBQS2B"
      }
    },
    {
      "cell_type": "markdown",
      "source": [
        "subections (1) and (4) have been addressed above"
      ],
      "metadata": {
        "id": "vl7XOJvsY--q"
      }
    },
    {
      "cell_type": "code",
      "source": [
        "#(2) no charges are pending against this person\n",
        "#charges database where there is no disposition\n",
        "df_pending = df[df['Disposition'].isnull()]\n",
        "pending = df_pending['PartyID'].unique()"
      ],
      "metadata": {
        "id": "C3_G8qpqQmkg"
      },
      "execution_count": 24,
      "outputs": []
    },
    {
      "cell_type": "code",
      "source": [
        "len(pending)"
      ],
      "metadata": {
        "colab": {
          "base_uri": "https://localhost:8080/"
        },
        "id": "-byrvryezhGc",
        "outputId": "bcbef2e4-67e2-481b-b741-65a459093059"
      },
      "execution_count": 25,
      "outputs": [
        {
          "output_type": "execute_result",
          "data": {
            "text/plain": [
              "377758"
            ]
          },
          "metadata": {},
          "execution_count": 25
        }
      ]
    },
    {
      "cell_type": "code",
      "source": [
        "#filter out those who have pending case\n",
        "df_e_1 = df_c[~df_c['PartyID'].isin(pending)]"
      ],
      "metadata": {
        "id": "gxhee1JaXjnE"
      },
      "execution_count": 26,
      "outputs": []
    },
    {
      "cell_type": "code",
      "source": [
        "len(df_e_1)"
      ],
      "metadata": {
        "colab": {
          "base_uri": "https://localhost:8080/"
        },
        "id": "8Pa4NYmazrZ7",
        "outputId": "a3d07f32-630c-412f-be1c-0d8a2e8f22f9"
      },
      "execution_count": 27,
      "outputs": [
        {
          "output_type": "execute_result",
          "data": {
            "text/plain": [
              "2117662"
            ]
          },
          "metadata": {},
          "execution_count": 27
        }
      ]
    },
    {
      "cell_type": "code",
      "source": [
        "#(3) the person paid all fines etc\n",
        "df_e = df_e_1[df_e_1['FeeBalance'] <= 0]"
      ],
      "metadata": {
        "id": "VXRobAhaX-OX"
      },
      "execution_count": 28,
      "outputs": []
    },
    {
      "cell_type": "code",
      "source": [
        "len(df_e)"
      ],
      "metadata": {
        "colab": {
          "base_uri": "https://localhost:8080/"
        },
        "id": "q5di0C8CYso3",
        "outputId": "ea200c15-0980-4149-d4e6-be49199c6732"
      },
      "execution_count": 29,
      "outputs": [
        {
          "output_type": "execute_result",
          "data": {
            "text/plain": [
              "1299055"
            ]
          },
          "metadata": {},
          "execution_count": 29
        }
      ]
    },
    {
      "cell_type": "code",
      "source": [
        "df_e.head()"
      ],
      "metadata": {
        "colab": {
          "base_uri": "https://localhost:8080/",
          "height": 434
        },
        "id": "2k0VtTtgYv6O",
        "outputId": "e8ac12bb-b3fe-4ea9-9fed-c0d814fcf18c"
      },
      "execution_count": 30,
      "outputs": [
        {
          "output_type": "execute_result",
          "data": {
            "text/plain": [
              "   CaseID  PartyID  ChargeID  CountNumber OffenseDate ChargedStatute  \\\n",
              "1  244739   862741     75307            1  12-31-2006      7.1-5-1-3   \n",
              "2  244739   862741     75308            2  12-31-2006      7.1-5-7-7   \n",
              "3  244740   862743     75309            1  12-28-2006       9-30-5-2   \n",
              "8  244744   862747     75314            2  01-02-2007      9-24-19-2   \n",
              "9  244745   862749     75315            1  12-28-2006       9-30-5-2   \n",
              "\n",
              "                             ChargedOffense        ChargedDegree  \\\n",
              "1                       PUBLIC INTOXICATION  Misdemeanor Class B   \n",
              "2  ILLEGAL CONSUMPTION OF AN ALCOHOLIC BEVE  Misdemeanor Class C   \n",
              "3     OPER WHILE INTOX, ENDANGERING PERSONS  Misdemeanor Class A   \n",
              "8                   DRIVING WHILE SUSPENDED  Misdemeanor Class A   \n",
              "9     OPER WHILE INTOX, ENDANGERING PERSONS  Misdemeanor Class A   \n",
              "\n",
              "  ConvictedStatute                          ConvictedOffense  \\\n",
              "1        7.1-5-1-3                       PUBLIC INTOXICATION   \n",
              "2        7.1-5-7-7  ILLEGAL CONSUMPTION OF AN ALCOHOLIC BEVE   \n",
              "3         9-30-5-2     OPER WHILE INTOX, ENDANGERING PERSONS   \n",
              "8        9-24-19-2                   DRIVING WHILE SUSPENDED   \n",
              "9         9-30-5-2     OPER WHILE INTOX, ENDANGERING PERSONS   \n",
              "\n",
              "       ConvictedDegree ConvictedDisposition ConvictedDate DisposedStatute  \\\n",
              "1  Misdemeanor Class B    Finding of Guilty    03-14-2007       7.1-5-1-3   \n",
              "2  Misdemeanor Class C    Finding of Guilty    03-14-2007       7.1-5-7-7   \n",
              "3  Misdemeanor Class A    Finding of Guilty    09-12-2007        9-30-5-2   \n",
              "8  Misdemeanor Class A    Finding of Guilty    03-06-2007       9-24-19-2   \n",
              "9  Misdemeanor Class A    Finding of Guilty    01-02-2007        9-30-5-2   \n",
              "\n",
              "                            DisposedOffense       DisposedDegree  \\\n",
              "1                       PUBLIC INTOXICATION  Misdemeanor Class B   \n",
              "2  ILLEGAL CONSUMPTION OF AN ALCOHOLIC BEVE  Misdemeanor Class C   \n",
              "3     OPER WHILE INTOX, ENDANGERING PERSONS  Misdemeanor Class A   \n",
              "8                   DRIVING WHILE SUSPENDED  Misdemeanor Class A   \n",
              "9     OPER WHILE INTOX, ENDANGERING PERSONS  Misdemeanor Class A   \n",
              "\n",
              "         Disposition DispositionDate  FeeBalance  \n",
              "1  Finding of Guilty      2007-03-14         0.0  \n",
              "2  Finding of Guilty      2007-03-14         0.0  \n",
              "3  Finding of Guilty      2007-09-12         0.0  \n",
              "8  Finding of Guilty      2007-03-06        -5.0  \n",
              "9  Finding of Guilty      2007-01-02         0.0  "
            ],
            "text/html": [
              "\n",
              "  <div id=\"df-e88a8607-c6a4-4608-913c-a5a6e579d4d1\" class=\"colab-df-container\">\n",
              "    <div>\n",
              "<style scoped>\n",
              "    .dataframe tbody tr th:only-of-type {\n",
              "        vertical-align: middle;\n",
              "    }\n",
              "\n",
              "    .dataframe tbody tr th {\n",
              "        vertical-align: top;\n",
              "    }\n",
              "\n",
              "    .dataframe thead th {\n",
              "        text-align: right;\n",
              "    }\n",
              "</style>\n",
              "<table border=\"1\" class=\"dataframe\">\n",
              "  <thead>\n",
              "    <tr style=\"text-align: right;\">\n",
              "      <th></th>\n",
              "      <th>CaseID</th>\n",
              "      <th>PartyID</th>\n",
              "      <th>ChargeID</th>\n",
              "      <th>CountNumber</th>\n",
              "      <th>OffenseDate</th>\n",
              "      <th>ChargedStatute</th>\n",
              "      <th>ChargedOffense</th>\n",
              "      <th>ChargedDegree</th>\n",
              "      <th>ConvictedStatute</th>\n",
              "      <th>ConvictedOffense</th>\n",
              "      <th>ConvictedDegree</th>\n",
              "      <th>ConvictedDisposition</th>\n",
              "      <th>ConvictedDate</th>\n",
              "      <th>DisposedStatute</th>\n",
              "      <th>DisposedOffense</th>\n",
              "      <th>DisposedDegree</th>\n",
              "      <th>Disposition</th>\n",
              "      <th>DispositionDate</th>\n",
              "      <th>FeeBalance</th>\n",
              "    </tr>\n",
              "  </thead>\n",
              "  <tbody>\n",
              "    <tr>\n",
              "      <th>1</th>\n",
              "      <td>244739</td>\n",
              "      <td>862741</td>\n",
              "      <td>75307</td>\n",
              "      <td>1</td>\n",
              "      <td>12-31-2006</td>\n",
              "      <td>7.1-5-1-3</td>\n",
              "      <td>PUBLIC INTOXICATION</td>\n",
              "      <td>Misdemeanor Class B</td>\n",
              "      <td>7.1-5-1-3</td>\n",
              "      <td>PUBLIC INTOXICATION</td>\n",
              "      <td>Misdemeanor Class B</td>\n",
              "      <td>Finding of Guilty</td>\n",
              "      <td>03-14-2007</td>\n",
              "      <td>7.1-5-1-3</td>\n",
              "      <td>PUBLIC INTOXICATION</td>\n",
              "      <td>Misdemeanor Class B</td>\n",
              "      <td>Finding of Guilty</td>\n",
              "      <td>2007-03-14</td>\n",
              "      <td>0.0</td>\n",
              "    </tr>\n",
              "    <tr>\n",
              "      <th>2</th>\n",
              "      <td>244739</td>\n",
              "      <td>862741</td>\n",
              "      <td>75308</td>\n",
              "      <td>2</td>\n",
              "      <td>12-31-2006</td>\n",
              "      <td>7.1-5-7-7</td>\n",
              "      <td>ILLEGAL CONSUMPTION OF AN ALCOHOLIC BEVE</td>\n",
              "      <td>Misdemeanor Class C</td>\n",
              "      <td>7.1-5-7-7</td>\n",
              "      <td>ILLEGAL CONSUMPTION OF AN ALCOHOLIC BEVE</td>\n",
              "      <td>Misdemeanor Class C</td>\n",
              "      <td>Finding of Guilty</td>\n",
              "      <td>03-14-2007</td>\n",
              "      <td>7.1-5-7-7</td>\n",
              "      <td>ILLEGAL CONSUMPTION OF AN ALCOHOLIC BEVE</td>\n",
              "      <td>Misdemeanor Class C</td>\n",
              "      <td>Finding of Guilty</td>\n",
              "      <td>2007-03-14</td>\n",
              "      <td>0.0</td>\n",
              "    </tr>\n",
              "    <tr>\n",
              "      <th>3</th>\n",
              "      <td>244740</td>\n",
              "      <td>862743</td>\n",
              "      <td>75309</td>\n",
              "      <td>1</td>\n",
              "      <td>12-28-2006</td>\n",
              "      <td>9-30-5-2</td>\n",
              "      <td>OPER WHILE INTOX, ENDANGERING PERSONS</td>\n",
              "      <td>Misdemeanor Class A</td>\n",
              "      <td>9-30-5-2</td>\n",
              "      <td>OPER WHILE INTOX, ENDANGERING PERSONS</td>\n",
              "      <td>Misdemeanor Class A</td>\n",
              "      <td>Finding of Guilty</td>\n",
              "      <td>09-12-2007</td>\n",
              "      <td>9-30-5-2</td>\n",
              "      <td>OPER WHILE INTOX, ENDANGERING PERSONS</td>\n",
              "      <td>Misdemeanor Class A</td>\n",
              "      <td>Finding of Guilty</td>\n",
              "      <td>2007-09-12</td>\n",
              "      <td>0.0</td>\n",
              "    </tr>\n",
              "    <tr>\n",
              "      <th>8</th>\n",
              "      <td>244744</td>\n",
              "      <td>862747</td>\n",
              "      <td>75314</td>\n",
              "      <td>2</td>\n",
              "      <td>01-02-2007</td>\n",
              "      <td>9-24-19-2</td>\n",
              "      <td>DRIVING WHILE SUSPENDED</td>\n",
              "      <td>Misdemeanor Class A</td>\n",
              "      <td>9-24-19-2</td>\n",
              "      <td>DRIVING WHILE SUSPENDED</td>\n",
              "      <td>Misdemeanor Class A</td>\n",
              "      <td>Finding of Guilty</td>\n",
              "      <td>03-06-2007</td>\n",
              "      <td>9-24-19-2</td>\n",
              "      <td>DRIVING WHILE SUSPENDED</td>\n",
              "      <td>Misdemeanor Class A</td>\n",
              "      <td>Finding of Guilty</td>\n",
              "      <td>2007-03-06</td>\n",
              "      <td>-5.0</td>\n",
              "    </tr>\n",
              "    <tr>\n",
              "      <th>9</th>\n",
              "      <td>244745</td>\n",
              "      <td>862749</td>\n",
              "      <td>75315</td>\n",
              "      <td>1</td>\n",
              "      <td>12-28-2006</td>\n",
              "      <td>9-30-5-2</td>\n",
              "      <td>OPER WHILE INTOX, ENDANGERING PERSONS</td>\n",
              "      <td>Misdemeanor Class A</td>\n",
              "      <td>9-30-5-2</td>\n",
              "      <td>OPER WHILE INTOX, ENDANGERING PERSONS</td>\n",
              "      <td>Misdemeanor Class A</td>\n",
              "      <td>Finding of Guilty</td>\n",
              "      <td>01-02-2007</td>\n",
              "      <td>9-30-5-2</td>\n",
              "      <td>OPER WHILE INTOX, ENDANGERING PERSONS</td>\n",
              "      <td>Misdemeanor Class A</td>\n",
              "      <td>Finding of Guilty</td>\n",
              "      <td>2007-01-02</td>\n",
              "      <td>0.0</td>\n",
              "    </tr>\n",
              "  </tbody>\n",
              "</table>\n",
              "</div>\n",
              "    <div class=\"colab-df-buttons\">\n",
              "\n",
              "  <div class=\"colab-df-container\">\n",
              "    <button class=\"colab-df-convert\" onclick=\"convertToInteractive('df-e88a8607-c6a4-4608-913c-a5a6e579d4d1')\"\n",
              "            title=\"Convert this dataframe to an interactive table.\"\n",
              "            style=\"display:none;\">\n",
              "\n",
              "  <svg xmlns=\"http://www.w3.org/2000/svg\" height=\"24px\" viewBox=\"0 -960 960 960\">\n",
              "    <path d=\"M120-120v-720h720v720H120Zm60-500h600v-160H180v160Zm220 220h160v-160H400v160Zm0 220h160v-160H400v160ZM180-400h160v-160H180v160Zm440 0h160v-160H620v160ZM180-180h160v-160H180v160Zm440 0h160v-160H620v160Z\"/>\n",
              "  </svg>\n",
              "    </button>\n",
              "\n",
              "  <style>\n",
              "    .colab-df-container {\n",
              "      display:flex;\n",
              "      gap: 12px;\n",
              "    }\n",
              "\n",
              "    .colab-df-convert {\n",
              "      background-color: #E8F0FE;\n",
              "      border: none;\n",
              "      border-radius: 50%;\n",
              "      cursor: pointer;\n",
              "      display: none;\n",
              "      fill: #1967D2;\n",
              "      height: 32px;\n",
              "      padding: 0 0 0 0;\n",
              "      width: 32px;\n",
              "    }\n",
              "\n",
              "    .colab-df-convert:hover {\n",
              "      background-color: #E2EBFA;\n",
              "      box-shadow: 0px 1px 2px rgba(60, 64, 67, 0.3), 0px 1px 3px 1px rgba(60, 64, 67, 0.15);\n",
              "      fill: #174EA6;\n",
              "    }\n",
              "\n",
              "    .colab-df-buttons div {\n",
              "      margin-bottom: 4px;\n",
              "    }\n",
              "\n",
              "    [theme=dark] .colab-df-convert {\n",
              "      background-color: #3B4455;\n",
              "      fill: #D2E3FC;\n",
              "    }\n",
              "\n",
              "    [theme=dark] .colab-df-convert:hover {\n",
              "      background-color: #434B5C;\n",
              "      box-shadow: 0px 1px 3px 1px rgba(0, 0, 0, 0.15);\n",
              "      filter: drop-shadow(0px 1px 2px rgba(0, 0, 0, 0.3));\n",
              "      fill: #FFFFFF;\n",
              "    }\n",
              "  </style>\n",
              "\n",
              "    <script>\n",
              "      const buttonEl =\n",
              "        document.querySelector('#df-e88a8607-c6a4-4608-913c-a5a6e579d4d1 button.colab-df-convert');\n",
              "      buttonEl.style.display =\n",
              "        google.colab.kernel.accessAllowed ? 'block' : 'none';\n",
              "\n",
              "      async function convertToInteractive(key) {\n",
              "        const element = document.querySelector('#df-e88a8607-c6a4-4608-913c-a5a6e579d4d1');\n",
              "        const dataTable =\n",
              "          await google.colab.kernel.invokeFunction('convertToInteractive',\n",
              "                                                    [key], {});\n",
              "        if (!dataTable) return;\n",
              "\n",
              "        const docLinkHtml = 'Like what you see? Visit the ' +\n",
              "          '<a target=\"_blank\" href=https://colab.research.google.com/notebooks/data_table.ipynb>data table notebook</a>'\n",
              "          + ' to learn more about interactive tables.';\n",
              "        element.innerHTML = '';\n",
              "        dataTable['output_type'] = 'display_data';\n",
              "        await google.colab.output.renderOutput(dataTable, element);\n",
              "        const docLink = document.createElement('div');\n",
              "        docLink.innerHTML = docLinkHtml;\n",
              "        element.appendChild(docLink);\n",
              "      }\n",
              "    </script>\n",
              "  </div>\n",
              "\n",
              "\n",
              "<div id=\"df-8beb129a-30a6-4f0e-af39-ab4bb79259fe\">\n",
              "  <button class=\"colab-df-quickchart\" onclick=\"quickchart('df-8beb129a-30a6-4f0e-af39-ab4bb79259fe')\"\n",
              "            title=\"Suggest charts\"\n",
              "            style=\"display:none;\">\n",
              "\n",
              "<svg xmlns=\"http://www.w3.org/2000/svg\" height=\"24px\"viewBox=\"0 0 24 24\"\n",
              "     width=\"24px\">\n",
              "    <g>\n",
              "        <path d=\"M19 3H5c-1.1 0-2 .9-2 2v14c0 1.1.9 2 2 2h14c1.1 0 2-.9 2-2V5c0-1.1-.9-2-2-2zM9 17H7v-7h2v7zm4 0h-2V7h2v10zm4 0h-2v-4h2v4z\"/>\n",
              "    </g>\n",
              "</svg>\n",
              "  </button>\n",
              "\n",
              "<style>\n",
              "  .colab-df-quickchart {\n",
              "      --bg-color: #E8F0FE;\n",
              "      --fill-color: #1967D2;\n",
              "      --hover-bg-color: #E2EBFA;\n",
              "      --hover-fill-color: #174EA6;\n",
              "      --disabled-fill-color: #AAA;\n",
              "      --disabled-bg-color: #DDD;\n",
              "  }\n",
              "\n",
              "  [theme=dark] .colab-df-quickchart {\n",
              "      --bg-color: #3B4455;\n",
              "      --fill-color: #D2E3FC;\n",
              "      --hover-bg-color: #434B5C;\n",
              "      --hover-fill-color: #FFFFFF;\n",
              "      --disabled-bg-color: #3B4455;\n",
              "      --disabled-fill-color: #666;\n",
              "  }\n",
              "\n",
              "  .colab-df-quickchart {\n",
              "    background-color: var(--bg-color);\n",
              "    border: none;\n",
              "    border-radius: 50%;\n",
              "    cursor: pointer;\n",
              "    display: none;\n",
              "    fill: var(--fill-color);\n",
              "    height: 32px;\n",
              "    padding: 0;\n",
              "    width: 32px;\n",
              "  }\n",
              "\n",
              "  .colab-df-quickchart:hover {\n",
              "    background-color: var(--hover-bg-color);\n",
              "    box-shadow: 0 1px 2px rgba(60, 64, 67, 0.3), 0 1px 3px 1px rgba(60, 64, 67, 0.15);\n",
              "    fill: var(--button-hover-fill-color);\n",
              "  }\n",
              "\n",
              "  .colab-df-quickchart-complete:disabled,\n",
              "  .colab-df-quickchart-complete:disabled:hover {\n",
              "    background-color: var(--disabled-bg-color);\n",
              "    fill: var(--disabled-fill-color);\n",
              "    box-shadow: none;\n",
              "  }\n",
              "\n",
              "  .colab-df-spinner {\n",
              "    border: 2px solid var(--fill-color);\n",
              "    border-color: transparent;\n",
              "    border-bottom-color: var(--fill-color);\n",
              "    animation:\n",
              "      spin 1s steps(1) infinite;\n",
              "  }\n",
              "\n",
              "  @keyframes spin {\n",
              "    0% {\n",
              "      border-color: transparent;\n",
              "      border-bottom-color: var(--fill-color);\n",
              "      border-left-color: var(--fill-color);\n",
              "    }\n",
              "    20% {\n",
              "      border-color: transparent;\n",
              "      border-left-color: var(--fill-color);\n",
              "      border-top-color: var(--fill-color);\n",
              "    }\n",
              "    30% {\n",
              "      border-color: transparent;\n",
              "      border-left-color: var(--fill-color);\n",
              "      border-top-color: var(--fill-color);\n",
              "      border-right-color: var(--fill-color);\n",
              "    }\n",
              "    40% {\n",
              "      border-color: transparent;\n",
              "      border-right-color: var(--fill-color);\n",
              "      border-top-color: var(--fill-color);\n",
              "    }\n",
              "    60% {\n",
              "      border-color: transparent;\n",
              "      border-right-color: var(--fill-color);\n",
              "    }\n",
              "    80% {\n",
              "      border-color: transparent;\n",
              "      border-right-color: var(--fill-color);\n",
              "      border-bottom-color: var(--fill-color);\n",
              "    }\n",
              "    90% {\n",
              "      border-color: transparent;\n",
              "      border-bottom-color: var(--fill-color);\n",
              "    }\n",
              "  }\n",
              "</style>\n",
              "\n",
              "  <script>\n",
              "    async function quickchart(key) {\n",
              "      const quickchartButtonEl =\n",
              "        document.querySelector('#' + key + ' button');\n",
              "      quickchartButtonEl.disabled = true;  // To prevent multiple clicks.\n",
              "      quickchartButtonEl.classList.add('colab-df-spinner');\n",
              "      try {\n",
              "        const charts = await google.colab.kernel.invokeFunction(\n",
              "            'suggestCharts', [key], {});\n",
              "      } catch (error) {\n",
              "        console.error('Error during call to suggestCharts:', error);\n",
              "      }\n",
              "      quickchartButtonEl.classList.remove('colab-df-spinner');\n",
              "      quickchartButtonEl.classList.add('colab-df-quickchart-complete');\n",
              "    }\n",
              "    (() => {\n",
              "      let quickchartButtonEl =\n",
              "        document.querySelector('#df-8beb129a-30a6-4f0e-af39-ab4bb79259fe button');\n",
              "      quickchartButtonEl.style.display =\n",
              "        google.colab.kernel.accessAllowed ? 'block' : 'none';\n",
              "    })();\n",
              "  </script>\n",
              "</div>\n",
              "\n",
              "    </div>\n",
              "  </div>\n"
            ],
            "application/vnd.google.colaboratory.intrinsic+json": {
              "type": "dataframe",
              "variable_name": "df_e"
            }
          },
          "metadata": {},
          "execution_count": 30
        }
      ]
    }
  ]
}